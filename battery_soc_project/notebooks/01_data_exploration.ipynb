{
 "cells": [
  {
   "cell_type": "code",
   "execution_count": 1,
   "id": "221cac2b",
   "metadata": {},
   "outputs": [
    {
     "name": "stdout",
     "output_type": "stream",
     "text": [
      "Kütüphaneler başarıyla yüklendi!\n"
     ]
    }
   ],
   "source": [
    "# Hücre 1: Kütüphaneleri import edin\n",
    "import pandas as pd\n",
    "import numpy as np\n",
    "import matplotlib.pyplot as plt\n",
    "import seaborn as sns\n",
    "import scipy.io\n",
    "from pathlib import Path\n",
    "import warnings\n",
    "warnings.filterwarnings('ignore')\n",
    "\n",
    "print(\"Kütüphaneler başarıyla yüklendi!\")"
   ]
  },
  {
   "cell_type": "code",
   "execution_count": 2,
   "id": "5d0877f4",
   "metadata": {},
   "outputs": [
    {
     "name": "stdout",
     "output_type": "stream",
     "text": [
      "Anahtarlar: dict_keys(['__header__', '__version__', '__globals__', 'B0005'])\n",
      "\n",
      "=== Anahtar: B0005 ===\n",
      "Tip: <class 'numpy.ndarray'>\n",
      "Shape: (1, 1)\n",
      "Alanlar: ('cycle',)\n"
     ]
    }
   ],
   "source": [
    "import scipy.io\n",
    "\n",
    "file_path = \"../data/raw/B0005.mat\"\n",
    "mat_data = scipy.io.loadmat(file_path)\n",
    "\n",
    "print(\"Anahtarlar:\", mat_data.keys())\n",
    "\n",
    "# Ana veri anahtarını bul\n",
    "for key in mat_data.keys():\n",
    "    if not key.startswith(\"__\"):\n",
    "        print(\"\\n=== Anahtar:\", key, \"===\")\n",
    "        print(\"Tip:\", type(mat_data[key]))\n",
    "        print(\"Shape:\", getattr(mat_data[key], \"shape\", None))\n",
    "\n",
    "        # Eğer structured array ise alan isimlerini göster\n",
    "        if hasattr(mat_data[key], \"dtype\") and mat_data[key].dtype.names:\n",
    "            print(\"Alanlar:\", mat_data[key].dtype.names)\n"
   ]
  },
  {
   "cell_type": "code",
   "execution_count": 3,
   "id": "fa42bd42",
   "metadata": {},
   "outputs": [
    {
     "name": "stdout",
     "output_type": "stream",
     "text": [
      "Toplam çevrim: 616\n",
      "   cycle       type  ambient_temperature  voltage_mean  current_mean  \\\n",
      "0      1     charge                 24.0      4.187420      0.643455   \n",
      "1      2  discharge                 24.0      3.529829     -1.818702   \n",
      "2      3     charge                 24.0      4.058826      0.949043   \n",
      "\n",
      "   temperature_mean   time_max  \n",
      "0         25.324079   7597.875  \n",
      "1         32.572328   3690.234  \n",
      "2         26.635623  10516.000  \n"
     ]
    }
   ],
   "source": [
    "import scipy.io\n",
    "import numpy as np\n",
    "import pandas as pd\n",
    "\n",
    "def safe_extract(array):\n",
    "    while isinstance(array, np.ndarray) and array.size == 1:\n",
    "        array = array[0]\n",
    "    return array\n",
    "\n",
    "# .mat dosyasını yükle\n",
    "mat = scipy.io.loadmat(\"../data/raw/B0005.mat\")\n",
    "battery = mat[\"B0005\"][0,0]\n",
    "\n",
    "cycles = battery[\"cycle\"][0]\n",
    "print(f\"Toplam çevrim: {len(cycles)}\")\n",
    "\n",
    "records = []\n",
    "\n",
    "for i, cycle in enumerate(cycles[:3]):  # ilk 3 çevrim\n",
    "    cycle_struct = safe_extract(cycle)\n",
    "    cycle_type = safe_extract(cycle_struct[\"type\"])\n",
    "    ambient_temp = float(safe_extract(cycle_struct[\"ambient_temperature\"]))\n",
    "    data = safe_extract(cycle_struct[\"data\"])\n",
    "\n",
    "    voltage = safe_extract(data[\"Voltage_measured\"]).flatten()\n",
    "    current = safe_extract(data[\"Current_measured\"]).flatten()\n",
    "    temperature = safe_extract(data[\"Temperature_measured\"]).flatten()\n",
    "    time = safe_extract(data[\"Time\"]).flatten()\n",
    "\n",
    "    records.append({\n",
    "        \"cycle\": i+1,\n",
    "        \"type\": cycle_type,\n",
    "        \"ambient_temperature\": ambient_temp,\n",
    "        \"voltage_mean\": float(np.mean(voltage)),\n",
    "        \"current_mean\": float(np.mean(current)),\n",
    "        \"temperature_mean\": float(np.mean(temperature)),\n",
    "        \"time_max\": float(np.max(time))\n",
    "    })\n",
    "\n",
    "df = pd.DataFrame(records)\n",
    "print(df)\n",
    "\n"
   ]
  },
  {
   "cell_type": "code",
   "execution_count": 21,
   "id": "22eabe63",
   "metadata": {},
   "outputs": [
    {
     "name": "stdout",
     "output_type": "stream",
     "text": [
      "('type', 'ambient_temperature', 'time', 'data')\n"
     ]
    }
   ],
   "source": [
    "print(cycle_struct.dtype.names)\n"
   ]
  },
  {
   "cell_type": "code",
   "execution_count": null,
   "metadata": {},
   "outputs": [],
   "source": []
  },
  {
   "cell_type": "code",
   "execution_count": 2,
   "id": "c0b6bb68",
   "metadata": {},
   "outputs": [
    {
     "name": "stdout",
     "output_type": "stream",
     "text": [
      "Dosya başarıyla yüklendi: ..\\data\\raw\\B0005.mat\n",
      "Dosya anahtarları: ['__header__', '__version__', '__globals__', 'B0005']\n",
      "Batarya veri anahtarları: ['B0005']\n"
     ]
    }
   ],
   "source": [
    "# Hücre 2: NASA veri setini yükleyin\n",
    "def load_nasa_battery_data(file_path):\n",
    "    \"\"\"\n",
    "    NASA MATLAB dosyasını yükler ve DataFrame'e çevirir\n",
    "    \"\"\"\n",
    "    try:\n",
    "        # MATLAB dosyasını yükle\n",
    "        mat_data = scipy.io.loadmat(file_path)\n",
    "        print(f\"Dosya başarıyla yüklendi: {file_path}\")\n",
    "        \n",
    "        # Dosya yapısını inceleyin\n",
    "        print(\"Dosya anahtarları:\", list(mat_data.keys()))\n",
    "        \n",
    "        # Batarya verisi genellikle bu anahtarlarda bulunur\n",
    "        battery_keys = [key for key in mat_data.keys() if not key.startswith('__')]\n",
    "        print(\"Batarya veri anahtarları:\", battery_keys)\n",
    "        \n",
    "        return mat_data\n",
    "    except Exception as e:\n",
    "        print(f\"Hata: {e}\")\n",
    "        return None\n",
    "\n",
    "# Veri dosyasının yolunu belirtin (kendi dosya yolunuzu yazın)\n",
    "data_path = Path(\"../data/raw/B0005.mat\")  \n",
    "\n",
    "# Eğer dosya varsa yükle\n",
    "if data_path.exists():\n",
    "    battery_data = load_nasa_battery_data(data_path)\n",
    "else:\n",
    "    print(f\"Dosya bulunamadı: {data_path}\")\n",
    "    print(\"Lütfen NASA veri setini data/raw/ klasörüne koyduğunuzdan emin olun\")"
   ]
  },
  {
   "cell_type": "code",
   "execution_count": 10,
   "id": "b65672f9",
   "metadata": {},
   "outputs": [
    {
     "name": "stdout",
     "output_type": "stream",
     "text": [
      "Ana veri anahtarı: B0005\n",
      "Veri tipi: <class 'numpy.ndarray'>\n",
      "Veri şekli: (1, 1)\n",
      "Veri alanları: ('cycle',)\n",
      "\n",
      "cycle:\n",
      "  - Tip: <class 'numpy.ndarray'>\n",
      "  - Şekil: (1, 616)\n"
     ]
    }
   ],
   "source": [
    "def explore_battery_structure(mat_data):\n",
    "    \"\"\"\n",
    "    Batarya verisi yapısını güvenli bir şekilde detaylı inceler\n",
    "    \"\"\"\n",
    "    if mat_data is None:\n",
    "        return\n",
    "    \n",
    "    # Ana veri anahtarını bul\n",
    "    main_key = None\n",
    "    for key in mat_data.keys():\n",
    "        if not key.startswith('__') and isinstance(mat_data[key], np.ndarray):\n",
    "            main_key = key\n",
    "            break\n",
    "    \n",
    "    if main_key:\n",
    "        print(f\"Ana veri anahtarı: {main_key}\")\n",
    "        battery_struct = mat_data[main_key]\n",
    "        print(f\"Veri tipi: {type(battery_struct)}\")\n",
    "        print(f\"Veri şekli: {battery_struct.shape}\")\n",
    "        \n",
    "        # Eğer structured array ise alanları listele\n",
    "        if hasattr(battery_struct, 'dtype') and battery_struct.dtype.names:\n",
    "            print(\"Veri alanları:\", battery_struct.dtype.names)\n",
    "            \n",
    "            # Her alanın içeriğini güvenli bir şekilde al\n",
    "            for field_name in battery_struct.dtype.names:\n",
    "                field_data = battery_struct[field_name]\n",
    "                \n",
    "                # Eğer object array ise 0. elemanı al\n",
    "                while isinstance(field_data, np.ndarray) and field_data.size == 1:\n",
    "                    field_data = field_data[0]\n",
    "                \n",
    "                print(f\"\\n{field_name}:\")\n",
    "                print(f\"  - Tip: {type(field_data)}\")\n",
    "                if hasattr(field_data, 'shape'):\n",
    "                    print(f\"  - Şekil: {field_data.shape}\")\n",
    "    \n",
    "    return main_key\n",
    "\n",
    "# Veri yapısını keşfedin\n",
    "if 'battery_data' in locals():\n",
    "    main_key = explore_battery_structure(battery_data)\n"
   ]
  },
  {
   "cell_type": "code",
   "execution_count": 5,
   "id": "8d43f4e9",
   "metadata": {},
   "outputs": [],
   "source": [
    "def safe_extract(array):\n",
    "    \"\"\"\n",
    "    Nested (iç içe) numpy array'leri açar ve son elemanı döndürür\n",
    "    \"\"\"\n",
    "    while isinstance(array, np.ndarray) and array.size == 1:\n",
    "        array = array[0]\n",
    "    return array\n",
    "\n",
    "\n",
    "def explore_battery_structure(mat_data):\n",
    "    if mat_data is None:\n",
    "        return\n",
    "    \n",
    "    main_key = None\n",
    "    for key in mat_data.keys():\n",
    "        if not key.startswith('__') and isinstance(mat_data[key], np.ndarray):\n",
    "            main_key = key\n",
    "            break\n",
    "    \n",
    "    if main_key:\n",
    "        battery_struct = mat_data[main_key]\n",
    "        \n",
    "        if hasattr(battery_struct, 'dtype') and battery_struct.dtype.names:\n",
    "            for field_name in battery_struct.dtype.names:\n",
    "                field_data = battery_struct[field_name]\n",
    "                field_data = safe_extract(field_data)  # Burada kullanıyoruz\n",
    "                \n",
    "                print(f\"{field_name} tip: {type(field_data)}, şekil: {getattr(field_data,'shape', None)}\")\n",
    "    \n",
    "    return main_key\n",
    "\n",
    "# Kullanım\n",
    "if 'battery_data' in locals():\n",
    "    main_key = explore_battery_structure(battery_data)\n"
   ]
  },
  {
   "cell_type": "code",
   "execution_count": null,
   "metadata": {},
   "outputs": [],
   "source": []
  },
  {
   "cell_type": "code",
   "execution_count": null,
   "id": "4a478498",
   "metadata": {},
   "outputs": [],
   "source": []
  },
  {
   "cell_type": "code",
   "execution_count": 14,
   "id": "6dd8049c",
   "metadata": {},
   "outputs": [
    {
     "name": "stdout",
     "output_type": "stream",
     "text": [
      "Ana veri anahtarı: B0005\n",
      "Veri tipi: <class 'numpy.ndarray'>\n",
      "Veri şekli: (1, 1)\n",
      "Veri alanları: ('cycle',)\n",
      "\n",
      "cycle:\n",
      "  - Tip: <class 'numpy.ndarray'>\n",
      "  - Şekil: (1, 616)\n"
     ]
    }
   ],
   "source": [
    "def explore_battery_structure(mat_data):\n",
    "    if mat_data is None:\n",
    "        return\n",
    "    \n",
    "    main_key = None\n",
    "    for key in mat_data.keys():\n",
    "        if not key.startswith('__') and isinstance(mat_data[key], np.ndarray):\n",
    "            main_key = key\n",
    "            break\n",
    "    \n",
    "    if main_key:\n",
    "        print(f\"Ana veri anahtarı: {main_key}\")\n",
    "        battery_struct = mat_data[main_key]\n",
    "        print(f\"Veri tipi: {type(battery_struct)}\")\n",
    "        print(f\"Veri şekli: {battery_struct.shape}\")\n",
    "        \n",
    "        if hasattr(battery_struct, 'dtype') and battery_struct.dtype.names:\n",
    "            print(\"Veri alanları:\", battery_struct.dtype.names)\n",
    "            \n",
    "            for field_name in battery_struct.dtype.names:\n",
    "                field_data = battery_struct[field_name]\n",
    "                field_data = safe_extract(field_data)\n",
    "                \n",
    "                print(f\"\\n{field_name}:\")\n",
    "                print(f\"  - Tip: {type(field_data)}\")\n",
    "                if hasattr(field_data, 'shape'):\n",
    "                    print(f\"  - Şekil: {field_data.shape}\")\n",
    "    \n",
    "    return main_key\n",
    "\n",
    "if 'battery_data' in locals():\n",
    "    main_key = explore_battery_structure(battery_data)\n"
   ]
  },
  {
   "cell_type": "code",
   "execution_count": 11,
   "id": "684c8312",
   "metadata": {},
   "outputs": [
    {
     "name": "stdout",
     "output_type": "stream",
     "text": [
      "Ana veri anahtarı: B0005\n",
      "Veri tipi: <class 'numpy.ndarray'>\n",
      "Veri şekli: (1, 1)\n",
      "Veri alanları: ('cycle',)\n",
      "\n",
      "cycle:\n",
      "  - Tip: <class 'numpy.ndarray'>\n",
      "  - Şekil: (1, 616)\n"
     ]
    }
   ],
   "source": [
    "# Hücre 3: Veri yapısını keşfedin\n",
    "def explore_battery_structure(mat_data):\n",
    "    \"\"\"\n",
    "    Batarya verisi yapısını detaylı inceler\n",
    "    \"\"\"\n",
    "    if mat_data is None:\n",
    "        return\n",
    "    \n",
    "    # Ana veri anahtarını bul\n",
    "    main_key = None\n",
    "    for key in mat_data.keys():\n",
    "        if not key.startswith('__') and isinstance(mat_data[key], np.ndarray):\n",
    "            main_key = key\n",
    "            break\n",
    "    \n",
    "    if main_key:\n",
    "        print(f\"Ana veri anahtarı: {main_key}\")\n",
    "        battery_struct = mat_data[main_key]\n",
    "        print(f\"Veri tipi: {type(battery_struct)}\")\n",
    "        print(f\"Veri şekli: {battery_struct.shape}\")\n",
    "        \n",
    "        # Eğer structured array ise alanları listele\n",
    "        if hasattr(battery_struct, 'dtype') and battery_struct.dtype.names:\n",
    "            print(\"Veri alanları:\", battery_struct.dtype.names)\n",
    "            \n",
    "            # Her alanın içeriğini güvenli bir şekilde al\n",
    "            for field_name in battery_struct.dtype.names:\n",
    "                field_data = battery_struct[field_name]\n",
    "                \n",
    "                # Array boyutuna göre doğru indeksleme\n",
    "                if field_data.ndim == 2:\n",
    "                    field_data = field_data[0, 0]\n",
    "                elif field_data.ndim == 1:\n",
    "                    field_data = field_data[0]\n",
    "                \n",
    "                print(f\"\\n{field_name}:\")\n",
    "                print(f\"  - Tip: {type(field_data)}\")\n",
    "                if hasattr(field_data, 'shape'):\n",
    "                    print(f\"  - Şekil: {field_data.shape}\")\n",
    "    \n",
    "    return main_key\n",
    "\n",
    "# Veri yapısını keşfedin\n",
    "if 'battery_data' in locals():\n",
    "    main_key = explore_battery_structure(battery_data)\n"
   ]
  },
  {
   "cell_type": "code",
   "execution_count": null,
   "id": "ec8eb6bb",
   "metadata": {},
   "outputs": [],
   "source": []
  }
 ],
 "metadata": {
  "kernelspec": {
   "display_name": ".venv",
   "language": "python",
   "name": "python3"
  },
  "language_info": {
   "codemirror_mode": {
    "name": "ipython",
    "version": 3
   },
   "file_extension": ".py",
   "mimetype": "text/x-python",
   "name": "python",
   "nbconvert_exporter": "python",
   "pygments_lexer": "ipython3",
   "version": "3.10.0"
  }
 },
 "nbformat": 4,
 "nbformat_minor": 5
}
